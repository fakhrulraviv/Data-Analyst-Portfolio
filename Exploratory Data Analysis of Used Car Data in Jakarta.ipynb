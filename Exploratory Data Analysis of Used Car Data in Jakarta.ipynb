{
 "cells": [
  {
   "cell_type": "markdown",
   "metadata": {},
   "source": [
    "# Exploratory Data Analysis of Used Car Data in Jakarta\n",
    "Fakhrul Raviv Asria"
   ]
  },
  {
   "cell_type": "markdown",
   "metadata": {},
   "source": [
    "### Library Import"
   ]
  },
  {
   "cell_type": "code",
   "execution_count": 1,
   "metadata": {},
   "outputs": [],
   "source": [
    "import pandas as pd\n",
    "import matplotlib.pyplot as plt\n",
    "import seaborn as sns\n",
    "\n",
    "%matplotlib inline "
   ]
  },
  {
   "cell_type": "markdown",
   "metadata": {},
   "source": [
    "### Data Understanding"
   ]
  },
  {
   "cell_type": "code",
   "execution_count": 2,
   "metadata": {},
   "outputs": [],
   "source": [
    "car_df = pd.read_csv('D:/Project/source/used_car_jakarta/used_car_data_new.csv')"
   ]
  },
  {
   "cell_type": "code",
   "execution_count": 3,
   "metadata": {},
   "outputs": [
    {
     "data": {
      "text/plain": [
       "(210, 31)"
      ]
     },
     "execution_count": 3,
     "metadata": {},
     "output_type": "execute_result"
    }
   ],
   "source": [
    "car_df.shape"
   ]
  },
  {
   "cell_type": "code",
   "execution_count": 4,
   "metadata": {},
   "outputs": [
    {
     "data": {
      "text/html": [
       "<div>\n",
       "<style scoped>\n",
       "    .dataframe tbody tr th:only-of-type {\n",
       "        vertical-align: middle;\n",
       "    }\n",
       "\n",
       "    .dataframe tbody tr th {\n",
       "        vertical-align: top;\n",
       "    }\n",
       "\n",
       "    .dataframe thead th {\n",
       "        text-align: right;\n",
       "    }\n",
       "</style>\n",
       "<table border=\"1\" class=\"dataframe\">\n",
       "  <thead>\n",
       "    <tr style=\"text-align: right;\">\n",
       "      <th></th>\n",
       "      <th>id_ucd</th>\n",
       "      <th>id_merk</th>\n",
       "      <th>type</th>\n",
       "      <th>model</th>\n",
       "      <th>color</th>\n",
       "      <th>year</th>\n",
       "      <th>id_transmission</th>\n",
       "      <th>id_fuel_type</th>\n",
       "      <th>door</th>\n",
       "      <th>cylinder_size</th>\n",
       "      <th>...</th>\n",
       "      <th>total_levy</th>\n",
       "      <th>showroom_name</th>\n",
       "      <th>showroom_location</th>\n",
       "      <th>showroom_regency</th>\n",
       "      <th>photo_1</th>\n",
       "      <th>photo_2</th>\n",
       "      <th>photo_3</th>\n",
       "      <th>link</th>\n",
       "      <th>created_at</th>\n",
       "      <th>updated_at</th>\n",
       "    </tr>\n",
       "  </thead>\n",
       "  <tbody>\n",
       "    <tr>\n",
       "      <th>0</th>\n",
       "      <td>1</td>\n",
       "      <td>Mazda</td>\n",
       "      <td>CX-5</td>\n",
       "      <td>SUV</td>\n",
       "      <td>Hitam</td>\n",
       "      <td>2016</td>\n",
       "      <td>2</td>\n",
       "      <td>Gasoline</td>\n",
       "      <td>5</td>\n",
       "      <td>2500</td>\n",
       "      <td>...</td>\n",
       "      <td>NaN</td>\n",
       "      <td>O2 Auto</td>\n",
       "      <td>Bintaro, Banten</td>\n",
       "      <td>Banten</td>\n",
       "      <td>NaN</td>\n",
       "      <td>NaN</td>\n",
       "      <td>NaN</td>\n",
       "      <td>NaN</td>\n",
       "      <td>4/3/2023 9:31</td>\n",
       "      <td>4/3/2023 9:31</td>\n",
       "    </tr>\n",
       "    <tr>\n",
       "      <th>1</th>\n",
       "      <td>44</td>\n",
       "      <td>Mazda</td>\n",
       "      <td>3 5 HB 6E</td>\n",
       "      <td>MINIBUS</td>\n",
       "      <td>HITAM METALIK</td>\n",
       "      <td>2016</td>\n",
       "      <td>2</td>\n",
       "      <td>Gasoline</td>\n",
       "      <td>5</td>\n",
       "      <td>1998</td>\n",
       "      <td>...</td>\n",
       "      <td>5876000.0</td>\n",
       "      <td>GARAGE 88</td>\n",
       "      <td>Jl.Radio 1 No.19, Kebayoran Baru, Jakarta Selatan</td>\n",
       "      <td>Jakarta Selatan</td>\n",
       "      <td>2018-11-18.jpg</td>\n",
       "      <td>NaN</td>\n",
       "      <td>NaN</td>\n",
       "      <td>NaN</td>\n",
       "      <td>4/11/2023 17:50</td>\n",
       "      <td>4/11/2023 17:50</td>\n",
       "    </tr>\n",
       "    <tr>\n",
       "      <th>2</th>\n",
       "      <td>160</td>\n",
       "      <td>Mazda</td>\n",
       "      <td>CX 5</td>\n",
       "      <td>SUV</td>\n",
       "      <td>PUIH METALIK</td>\n",
       "      <td>2014</td>\n",
       "      <td>2</td>\n",
       "      <td>Gasoline</td>\n",
       "      <td>5</td>\n",
       "      <td>2498</td>\n",
       "      <td>...</td>\n",
       "      <td>5718000.0</td>\n",
       "      <td>BEST MOBILINDO</td>\n",
       "      <td>Jl. Industri Raya No.10, RW.10, Danau Sunter D...</td>\n",
       "      <td>Jakarta Utara</td>\n",
       "      <td>BEST MOBILINDO.jpg</td>\n",
       "      <td>NaN</td>\n",
       "      <td>NaN</td>\n",
       "      <td>NaN</td>\n",
       "      <td>4/15/2023 21:08</td>\n",
       "      <td>4/15/2023 21:08</td>\n",
       "    </tr>\n",
       "    <tr>\n",
       "      <th>3</th>\n",
       "      <td>90</td>\n",
       "      <td>Hyundai</td>\n",
       "      <td>I-20</td>\n",
       "      <td>MINIBUS</td>\n",
       "      <td>MERAH</td>\n",
       "      <td>2010</td>\n",
       "      <td>2</td>\n",
       "      <td>Gasoline</td>\n",
       "      <td>5</td>\n",
       "      <td>1396</td>\n",
       "      <td>...</td>\n",
       "      <td>3377000.0</td>\n",
       "      <td>MAJU JAYA MOTOR</td>\n",
       "      <td>JL. Mangga Dua Raya, No. 8, RW.5, Ancol, Kec. ...</td>\n",
       "      <td>Jakarta Utara</td>\n",
       "      <td>2020-02-29.jpg</td>\n",
       "      <td>NaN</td>\n",
       "      <td>NaN</td>\n",
       "      <td>NaN</td>\n",
       "      <td>4/13/2023 4:38</td>\n",
       "      <td>4/13/2023 4:38</td>\n",
       "    </tr>\n",
       "    <tr>\n",
       "      <th>4</th>\n",
       "      <td>25</td>\n",
       "      <td>Range Rover</td>\n",
       "      <td>RANGE ROVER 4.2L V8 AT</td>\n",
       "      <td>JEEP S.C.HDTP</td>\n",
       "      <td>HITAM</td>\n",
       "      <td>2007</td>\n",
       "      <td>2</td>\n",
       "      <td>Gasoline</td>\n",
       "      <td>5</td>\n",
       "      <td>4187</td>\n",
       "      <td>...</td>\n",
       "      <td>11399000.0</td>\n",
       "      <td>ARJUNA MOTOR DEALER MOBIL BEKAS</td>\n",
       "      <td>jln raya jatiwaringin no 2 pangkalan jati kali...</td>\n",
       "      <td>Jakarta Timur</td>\n",
       "      <td>2021-01-22.jpg</td>\n",
       "      <td>NaN</td>\n",
       "      <td>NaN</td>\n",
       "      <td>NaN</td>\n",
       "      <td>4/11/2023 7:29</td>\n",
       "      <td>4/11/2023 7:29</td>\n",
       "    </tr>\n",
       "  </tbody>\n",
       "</table>\n",
       "<p>5 rows × 31 columns</p>\n",
       "</div>"
      ],
      "text/plain": [
       "   id_ucd      id_merk                    type          model          color  \\\n",
       "0       1        Mazda                    CX-5            SUV          Hitam   \n",
       "1      44        Mazda               3 5 HB 6E        MINIBUS  HITAM METALIK   \n",
       "2     160        Mazda                    CX 5            SUV   PUIH METALIK   \n",
       "3      90      Hyundai                    I-20        MINIBUS          MERAH   \n",
       "4      25  Range Rover  RANGE ROVER 4.2L V8 AT  JEEP S.C.HDTP          HITAM   \n",
       "\n",
       "   year  id_transmission id_fuel_type  door  cylinder_size  ...  total_levy  \\\n",
       "0  2016                2     Gasoline     5           2500  ...         NaN   \n",
       "1  2016                2     Gasoline     5           1998  ...   5876000.0   \n",
       "2  2014                2     Gasoline     5           2498  ...   5718000.0   \n",
       "3  2010                2     Gasoline     5           1396  ...   3377000.0   \n",
       "4  2007                2     Gasoline     5           4187  ...  11399000.0   \n",
       "\n",
       "                     showroom_name  \\\n",
       "0                          O2 Auto   \n",
       "1                        GARAGE 88   \n",
       "2                   BEST MOBILINDO   \n",
       "3                  MAJU JAYA MOTOR   \n",
       "4  ARJUNA MOTOR DEALER MOBIL BEKAS   \n",
       "\n",
       "                                   showroom_location showroom_regency  \\\n",
       "0                                    Bintaro, Banten           Banten   \n",
       "1  Jl.Radio 1 No.19, Kebayoran Baru, Jakarta Selatan  Jakarta Selatan   \n",
       "2  Jl. Industri Raya No.10, RW.10, Danau Sunter D...    Jakarta Utara   \n",
       "3  JL. Mangga Dua Raya, No. 8, RW.5, Ancol, Kec. ...    Jakarta Utara   \n",
       "4  jln raya jatiwaringin no 2 pangkalan jati kali...    Jakarta Timur   \n",
       "\n",
       "              photo_1  photo_2  photo_3  link       created_at  \\\n",
       "0                 NaN      NaN      NaN   NaN    4/3/2023 9:31   \n",
       "1      2018-11-18.jpg      NaN      NaN   NaN  4/11/2023 17:50   \n",
       "2  BEST MOBILINDO.jpg      NaN      NaN   NaN  4/15/2023 21:08   \n",
       "3      2020-02-29.jpg      NaN      NaN   NaN   4/13/2023 4:38   \n",
       "4      2021-01-22.jpg      NaN      NaN   NaN   4/11/2023 7:29   \n",
       "\n",
       "        updated_at  \n",
       "0    4/3/2023 9:31  \n",
       "1  4/11/2023 17:50  \n",
       "2  4/15/2023 21:08  \n",
       "3   4/13/2023 4:38  \n",
       "4   4/11/2023 7:29  \n",
       "\n",
       "[5 rows x 31 columns]"
      ]
     },
     "execution_count": 4,
     "metadata": {},
     "output_type": "execute_result"
    }
   ],
   "source": [
    "car_df.head()"
   ]
  },
  {
   "cell_type": "code",
   "execution_count": 5,
   "metadata": {},
   "outputs": [
    {
     "data": {
      "text/plain": [
       "Index(['id_ucd', 'id_merk', 'type', 'model', 'color', 'year',\n",
       "       'id_transmission', 'id_fuel_type', 'door', 'cylinder_size',\n",
       "       'cylinder_total', 'turbo', 'mileage', 'license_plate', 'price_cash',\n",
       "       'price_credit', 'nilai_jual_pkb', 'pkb_pokok', 'stnk_date', 'levy_date',\n",
       "       'swdkllj', 'total_levy', 'showroom_name', 'showroom_location',\n",
       "       'showroom_regency', 'photo_1', 'photo_2', 'photo_3', 'link',\n",
       "       'created_at', 'updated_at'],\n",
       "      dtype='object')"
      ]
     },
     "execution_count": 5,
     "metadata": {},
     "output_type": "execute_result"
    }
   ],
   "source": [
    "car_df.columns"
   ]
  },
  {
   "cell_type": "code",
   "execution_count": 6,
   "metadata": {},
   "outputs": [
    {
     "name": "stdout",
     "output_type": "stream",
     "text": [
      "<class 'pandas.core.frame.DataFrame'>\n",
      "RangeIndex: 210 entries, 0 to 209\n",
      "Data columns (total 31 columns):\n",
      " #   Column             Non-Null Count  Dtype  \n",
      "---  ------             --------------  -----  \n",
      " 0   id_ucd             210 non-null    int64  \n",
      " 1   id_merk            210 non-null    object \n",
      " 2   type               210 non-null    object \n",
      " 3   model              210 non-null    object \n",
      " 4   color              210 non-null    object \n",
      " 5   year               210 non-null    int64  \n",
      " 6   id_transmission    210 non-null    int64  \n",
      " 7   id_fuel_type       210 non-null    object \n",
      " 8   door               210 non-null    int64  \n",
      " 9   cylinder_size      210 non-null    int64  \n",
      " 10  cylinder_total     210 non-null    int64  \n",
      " 11  turbo              210 non-null    int64  \n",
      " 12  mileage            210 non-null    int64  \n",
      " 13  license_plate      210 non-null    object \n",
      " 14  price_cash         210 non-null    int64  \n",
      " 15  price_credit       210 non-null    int64  \n",
      " 16  nilai_jual_pkb     201 non-null    float64\n",
      " 17  pkb_pokok          198 non-null    float64\n",
      " 18  stnk_date          201 non-null    object \n",
      " 19  levy_date          201 non-null    object \n",
      " 20  swdkllj            198 non-null    float64\n",
      " 21  total_levy         198 non-null    float64\n",
      " 22  showroom_name      210 non-null    object \n",
      " 23  showroom_location  210 non-null    object \n",
      " 24  showroom_regency   210 non-null    object \n",
      " 25  photo_1            189 non-null    object \n",
      " 26  photo_2            0 non-null      float64\n",
      " 27  photo_3            0 non-null      float64\n",
      " 28  link               0 non-null      float64\n",
      " 29  created_at         202 non-null    object \n",
      " 30  updated_at         202 non-null    object \n",
      "dtypes: float64(7), int64(10), object(14)\n",
      "memory usage: 51.0+ KB\n"
     ]
    }
   ],
   "source": [
    "car_df.info()"
   ]
  },
  {
   "cell_type": "markdown",
   "metadata": {},
   "source": [
    "### Data Cleaning"
   ]
  },
  {
   "cell_type": "code",
   "execution_count": 7,
   "metadata": {},
   "outputs": [],
   "source": [
    "car_df.rename(columns={'swdkllj': 'specific_levy'}, inplace=True)"
   ]
  },
  {
   "cell_type": "markdown",
   "metadata": {},
   "source": [
    "Rename 'swdkllj' column to 'specific_levy'"
   ]
  },
  {
   "cell_type": "code",
   "execution_count": 8,
   "metadata": {},
   "outputs": [
    {
     "data": {
      "text/plain": [
       "id_ucd                 0\n",
       "id_merk                0\n",
       "type                   0\n",
       "model                  0\n",
       "color                  0\n",
       "year                   0\n",
       "id_transmission        0\n",
       "id_fuel_type           0\n",
       "door                   0\n",
       "cylinder_size          0\n",
       "cylinder_total         0\n",
       "turbo                  0\n",
       "mileage                0\n",
       "license_plate          0\n",
       "price_cash             0\n",
       "price_credit           0\n",
       "nilai_jual_pkb         9\n",
       "pkb_pokok             12\n",
       "stnk_date              9\n",
       "levy_date              9\n",
       "specific_levy         12\n",
       "total_levy            12\n",
       "showroom_name          0\n",
       "showroom_location      0\n",
       "showroom_regency       0\n",
       "photo_1               21\n",
       "photo_2              210\n",
       "photo_3              210\n",
       "link                 210\n",
       "created_at             8\n",
       "updated_at             8\n",
       "dtype: int64"
      ]
     },
     "execution_count": 8,
     "metadata": {},
     "output_type": "execute_result"
    }
   ],
   "source": [
    "pd.isna(car_df).sum()"
   ]
  },
  {
   "cell_type": "code",
   "execution_count": 9,
   "metadata": {},
   "outputs": [],
   "source": [
    "car_df.drop(['photo_1','photo_2','photo_3','link','created_at','updated_at'],axis=1,inplace=True)"
   ]
  },
  {
   "cell_type": "markdown",
   "metadata": {},
   "source": [
    "Drop 'photo_1', 'photo_2', 'photo_3', 'link', 'created_at' and 'updated_at' column"
   ]
  },
  {
   "cell_type": "code",
   "execution_count": 10,
   "metadata": {},
   "outputs": [
    {
     "data": {
      "text/plain": [
       "id_ucd                0\n",
       "id_merk               0\n",
       "type                  0\n",
       "model                 0\n",
       "color                 0\n",
       "year                  0\n",
       "id_transmission       0\n",
       "id_fuel_type          0\n",
       "door                  0\n",
       "cylinder_size         0\n",
       "cylinder_total        0\n",
       "turbo                 0\n",
       "mileage               0\n",
       "license_plate         0\n",
       "price_cash            0\n",
       "price_credit          0\n",
       "nilai_jual_pkb        9\n",
       "pkb_pokok            12\n",
       "stnk_date             9\n",
       "levy_date             9\n",
       "specific_levy        12\n",
       "total_levy           12\n",
       "showroom_name         0\n",
       "showroom_location     0\n",
       "showroom_regency      0\n",
       "dtype: int64"
      ]
     },
     "execution_count": 10,
     "metadata": {},
     "output_type": "execute_result"
    }
   ],
   "source": [
    "pd.isna(car_df).sum()"
   ]
  },
  {
   "cell_type": "code",
   "execution_count": 11,
   "metadata": {},
   "outputs": [
    {
     "data": {
      "text/plain": [
       "total_levy          12\n",
       "specific_levy       12\n",
       "pkb_pokok           12\n",
       "levy_date            9\n",
       "stnk_date            9\n",
       "nilai_jual_pkb       9\n",
       "showroom_regency     0\n",
       "door                 0\n",
       "id_merk              0\n",
       "type                 0\n",
       "dtype: int64"
      ]
     },
     "execution_count": 11,
     "metadata": {},
     "output_type": "execute_result"
    }
   ],
   "source": [
    "car_df.isnull().sum().sort_values(ascending = False).head(10)"
   ]
  },
  {
   "cell_type": "markdown",
   "metadata": {},
   "source": [
    "Sorting null-valued data"
   ]
  },
  {
   "cell_type": "code",
   "execution_count": 12,
   "metadata": {},
   "outputs": [
    {
     "data": {
      "text/plain": [
       "pkb_pokok         float64\n",
       "total_levy        float64\n",
       "specific_levy     float64\n",
       "stnk_date          object\n",
       "levy_date          object\n",
       "nilai_jual_pkb    float64\n",
       "dtype: object"
      ]
     },
     "execution_count": 12,
     "metadata": {},
     "output_type": "execute_result"
    }
   ],
   "source": [
    "car_df[['pkb_pokok','total_levy','specific_levy','stnk_date', 'levy_date','nilai_jual_pkb']].dtypes"
   ]
  },
  {
   "cell_type": "markdown",
   "metadata": {},
   "source": [
    "Checking null-valued data types"
   ]
  },
  {
   "cell_type": "code",
   "execution_count": 13,
   "metadata": {},
   "outputs": [],
   "source": [
    "imputation = ['pkb_pokok','total_levy','specific_levy','nilai_jual_pkb']\n",
    "\n",
    "for column in imputation:\n",
    "    mean_value = car_df[column].mean()\n",
    "    car_df[column].fillna(mean_value, inplace=True)"
   ]
  },
  {
   "cell_type": "markdown",
   "metadata": {},
   "source": [
    "Calculating mean for respective column and fill NA with mean"
   ]
  },
  {
   "cell_type": "code",
   "execution_count": 14,
   "metadata": {},
   "outputs": [],
   "source": [
    "car_df['levy_date'].fillna('Unkonown', inplace=True)"
   ]
  },
  {
   "cell_type": "code",
   "execution_count": 15,
   "metadata": {},
   "outputs": [],
   "source": [
    "car_df['stnk_date'].fillna('Unkonown', inplace=True)"
   ]
  },
  {
   "cell_type": "markdown",
   "metadata": {},
   "source": [
    "Filling 'levy_date' and 'stnk_date' column with 'Unknown'"
   ]
  },
  {
   "cell_type": "code",
   "execution_count": 16,
   "metadata": {},
   "outputs": [
    {
     "data": {
      "text/plain": [
       "id_ucd               0\n",
       "id_merk              0\n",
       "type                 0\n",
       "model                0\n",
       "color                0\n",
       "year                 0\n",
       "id_transmission      0\n",
       "id_fuel_type         0\n",
       "door                 0\n",
       "cylinder_size        0\n",
       "cylinder_total       0\n",
       "turbo                0\n",
       "mileage              0\n",
       "license_plate        0\n",
       "price_cash           0\n",
       "price_credit         0\n",
       "nilai_jual_pkb       0\n",
       "pkb_pokok            0\n",
       "stnk_date            0\n",
       "levy_date            0\n",
       "specific_levy        0\n",
       "total_levy           0\n",
       "showroom_name        0\n",
       "showroom_location    0\n",
       "showroom_regency     0\n",
       "dtype: int64"
      ]
     },
     "execution_count": 16,
     "metadata": {},
     "output_type": "execute_result"
    }
   ],
   "source": [
    "car_df.isna().sum()"
   ]
  },
  {
   "cell_type": "code",
   "execution_count": 17,
   "metadata": {},
   "outputs": [],
   "source": [
    "convertion = ['nilai_jual_pkb', 'pkb_pokok', 'specific_levy', 'total_levy']\n",
    "\n",
    "car_df[convertion] = car_df[convertion].astype(int)"
   ]
  },
  {
   "cell_type": "markdown",
   "metadata": {},
   "source": [
    "Change 'nilai_jual_pkb', 'pkb_pokok', 'specific_levy', 'total_levy' data types into int"
   ]
  },
  {
   "cell_type": "code",
   "execution_count": 18,
   "metadata": {},
   "outputs": [
    {
     "name": "stdout",
     "output_type": "stream",
     "text": [
      "<class 'pandas.core.frame.DataFrame'>\n",
      "RangeIndex: 210 entries, 0 to 209\n",
      "Data columns (total 25 columns):\n",
      " #   Column             Non-Null Count  Dtype \n",
      "---  ------             --------------  ----- \n",
      " 0   id_ucd             210 non-null    int64 \n",
      " 1   id_merk            210 non-null    object\n",
      " 2   type               210 non-null    object\n",
      " 3   model              210 non-null    object\n",
      " 4   color              210 non-null    object\n",
      " 5   year               210 non-null    int64 \n",
      " 6   id_transmission    210 non-null    int64 \n",
      " 7   id_fuel_type       210 non-null    object\n",
      " 8   door               210 non-null    int64 \n",
      " 9   cylinder_size      210 non-null    int64 \n",
      " 10  cylinder_total     210 non-null    int64 \n",
      " 11  turbo              210 non-null    int64 \n",
      " 12  mileage            210 non-null    int64 \n",
      " 13  license_plate      210 non-null    object\n",
      " 14  price_cash         210 non-null    int64 \n",
      " 15  price_credit       210 non-null    int64 \n",
      " 16  nilai_jual_pkb     210 non-null    int32 \n",
      " 17  pkb_pokok          210 non-null    int32 \n",
      " 18  stnk_date          210 non-null    object\n",
      " 19  levy_date          210 non-null    object\n",
      " 20  specific_levy      210 non-null    int32 \n",
      " 21  total_levy         210 non-null    int32 \n",
      " 22  showroom_name      210 non-null    object\n",
      " 23  showroom_location  210 non-null    object\n",
      " 24  showroom_regency   210 non-null    object\n",
      "dtypes: int32(4), int64(10), object(11)\n",
      "memory usage: 37.9+ KB\n"
     ]
    }
   ],
   "source": [
    "car_df.info()"
   ]
  },
  {
   "cell_type": "code",
   "execution_count": 19,
   "metadata": {},
   "outputs": [],
   "source": [
    "car_df['model'] = car_df['model'].str.upper()\n",
    "car_df['model'] = car_df['model'].replace('minibus', 'MINIBUS', regex=True)\n",
    "car_df['model'] = car_df['model'].replace('sedan', 'SEDAN', regex=True)"
   ]
  },
  {
   "cell_type": "code",
   "execution_count": 20,
   "metadata": {},
   "outputs": [],
   "source": [
    "car_df['model'] = car_df['model'].replace(['JEEP L.C.HDTP'], 'JEEP')\n",
    "car_df['model'] = car_df['model'].replace(['JEEP S.C.HDTP'], 'JEEP')"
   ]
  },
  {
   "cell_type": "code",
   "execution_count": 21,
   "metadata": {},
   "outputs": [
    {
     "data": {
      "text/plain": [
       "MINIBUS          130\n",
       "SEDAN             31\n",
       "JEEP              22\n",
       "SUV               18\n",
       "MPV                4\n",
       "MICRO/MINIBUS      4\n",
       "MINIVAN            1\n",
       "Name: model, dtype: int64"
      ]
     },
     "execution_count": 21,
     "metadata": {},
     "output_type": "execute_result"
    }
   ],
   "source": [
    "car_df['model'].value_counts()"
   ]
  },
  {
   "cell_type": "markdown",
   "metadata": {},
   "source": [
    "### Data Visualization"
   ]
  },
  {
   "cell_type": "code",
   "execution_count": 22,
   "metadata": {
    "scrolled": true
   },
   "outputs": [
    {
     "data": {
      "image/png": "[encoded data removed]",
      "text/plain": [
       "<Figure size 432x288 with 1 Axes>"
      ]
     },
     "metadata": {
      "needs_background": "light"
     },
     "output_type": "display_data"
    }
   ],
   "source": [
    "car_df['id_merk'].value_counts().plot.bar()\n",
    "plt.tight_layout()\n",
    "plt.show()"
   ]
  },
  {
   "cell_type": "code",
   "execution_count": 23,
   "metadata": {},
   "outputs": [
    {
     "data": {
      "image/png": "[encoded data removed]",
      "text/plain": [
       "<Figure size 432x288 with 1 Axes>"
      ]
     },
     "metadata": {
      "needs_background": "light"
     },
     "output_type": "display_data"
    }
   ],
   "source": [
    "sorted_value_counts = car_df['year'].value_counts().sort_index()\n",
    "sorted_value_counts.plot.bar()\n",
    "plt.tight_layout()\n",
    "plt.show()"
   ]
  },
  {
   "cell_type": "code",
   "execution_count": 24,
   "metadata": {},
   "outputs": [
    {
     "data": {
      "image/png": "[encoded data removed]",
      "text/plain": [
       "<Figure size 432x288 with 1 Axes>"
      ]
     },
     "metadata": {
      "needs_background": "light"
     },
     "output_type": "display_data"
    }
   ],
   "source": [
    "car_df['model'].value_counts().plot.bar()\n",
    "plt.tight_layout()\n",
    "plt.show()"
   ]
  },
  {
   "cell_type": "markdown",
   "metadata": {},
   "source": [
    "### Conclusion"
   ]
  },
  {
   "cell_type": "markdown",
   "metadata": {},
   "source": [
    "1. Based on used car brands, Toyota is in the top position of public interest, followed by Honda in second place and Daihatsu in third place.\n",
    "2. Based on the year of the car, 2017 ranks first followed by 2018, 2019 and 2016. Even 2012, which is ranked fifth, is still an attraction for people.\n",
    "3. Based on car model, Minibus is the highest with a very far number of positions afterwards."
   ]
  }
 ],
 "metadata": {
  "kernelspec": {
   "display_name": "Python 3",
   "language": "python",
   "name": "python3"
  },
  "language_info": {
   "codemirror_mode": {
    "name": "ipython",
    "version": 3
   },
   "file_extension": ".py",
   "mimetype": "text/x-python",
   "name": "python",
   "nbconvert_exporter": "python",
   "pygments_lexer": "ipython3",
   "version": "3.8.5"
  }
 },
 "nbformat": 4,
 "nbformat_minor": 4
}
